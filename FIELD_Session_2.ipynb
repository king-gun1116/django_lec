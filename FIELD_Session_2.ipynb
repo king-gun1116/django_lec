{
  "nbformat": 4,
  "nbformat_minor": 0,
  "metadata": {
    "colab": {
      "provenance": [],
      "include_colab_link": true
    },
    "kernelspec": {
      "name": "python3",
      "display_name": "Python 3"
    },
    "language_info": {
      "name": "python"
    }
  },
  "cells": [
    {
      "cell_type": "markdown",
      "metadata": {
        "id": "view-in-github",
        "colab_type": "text"
      },
      "source": [
        "<a href=\"https://colab.research.google.com/github/king-gun1116/django_lec/blob/main/FIELD_Session_2.ipynb\" target=\"_parent\"><img src=\"https://colab.research.google.com/assets/colab-badge.svg\" alt=\"Open In Colab\"/></a>"
      ]
    },
    {
      "cell_type": "code",
      "execution_count": null,
      "metadata": {
        "id": "uVHFpDk95nDJ"
      },
      "outputs": [],
      "source": [
        "#2024 FIELD 11조"
      ]
    },
    {
      "cell_type": "code",
      "source": [
        "%pip install haversine"
      ],
      "metadata": {
        "colab": {
          "base_uri": "https://localhost:8080/"
        },
        "id": "r0FHUytpxiVP",
        "outputId": "2b8313e6-c5de-412d-ecc4-496583ffe913"
      },
      "execution_count": 1,
      "outputs": [
        {
          "output_type": "stream",
          "name": "stdout",
          "text": [
            "Collecting haversine\n",
            "  Downloading haversine-2.8.1-py2.py3-none-any.whl.metadata (5.9 kB)\n",
            "Downloading haversine-2.8.1-py2.py3-none-any.whl (7.7 kB)\n",
            "Installing collected packages: haversine\n",
            "Successfully installed haversine-2.8.1\n"
          ]
        }
      ]
    },
    {
      "cell_type": "code",
      "source": [
        "from haversine import haversine_vector, Unit\n",
        "from scipy.optimize import linprog\n",
        "import numpy as np\n",
        "import pandas as pd\n",
        "from google.colab import files"
      ],
      "metadata": {
        "id": "Lz2DD_t3x7hR"
      },
      "execution_count": 2,
      "outputs": []
    },
    {
      "cell_type": "markdown",
      "source": [
        "##Part 0. 데이터 업로드"
      ],
      "metadata": {
        "id": "cD_z611OynyL"
      }
    },
    {
      "cell_type": "code",
      "source": [
        "# 공장, 항구, 수요지, 차종 이름: list\n",
        "factory = ['HMI', 'HAOS', 'BHMC', 'HMMA', 'HMMC', 'HMB', 'HMMI', 'HTBC', 'Vietnam', 'Korea']\n",
        "port = ['Seattle', 'LosAngeles', 'Houston', 'Charleston','NewJersey']\n",
        "demand = ['Chicago', 'LA', 'WashingtonDC','Michigan', 'NewYork', 'California', 'Montana', 'Florida']\n",
        "car = ['Elantra', 'Sonata', 'Palisade', 'Kona', 'Venue', 'Nexo', 'SantaCruz', 'IONIQ5', 'IONIQ6', 'IONIQ5Robotaxi',\n",
        "        'Tucson', 'Santa-Fe', 'GV70', 'GV70EV', 'GV60', 'GV80', 'G70', 'G80(RG3)', 'G80(RG3EV)', 'G90']"
      ],
      "metadata": {
        "id": "Pie4gfMUyuHY"
      },
      "execution_count": 3,
      "outputs": []
    },
    {
      "cell_type": "code",
      "source": [
        "# 공장, 항구, 수요지의 좌표 (위도, 경도): dictionary, tuple\n",
        "factory_location = {\n",
        "    'HMI': (12.9992, 79.9906),\n",
        "    'HAOS': (40.7724, 30.0244),\n",
        "    'BHMC': (39.9689, 116.3194),\n",
        "    'HMMA': (32.3887, -86.3544),\n",
        "    'HMMC': (49.6624, 18.3960),\n",
        "    'HMB': (-22.6848, -47.6035),\n",
        "    'HMMI': (-6.404, 107.186),\n",
        "    'HTBC': (31.118, 104.184),\n",
        "    'Vietnam': (21.346, 105.610),\n",
        "    'Korea': (36.7925, 126.9928)\n",
        "}\n",
        "\n",
        "port_location = {\n",
        "    'Seattle': (47.3622, -122.1955),\n",
        "    'LosAngeles': (33.7400, -118.2727),\n",
        "    'Houston': (29.7426, -95.2622),\n",
        "    'Charleston': (32.7812, -79.9283),\n",
        "    'NewJersey': (40.6688, -74.0160)\n",
        "}\n",
        "\n",
        "demand_location = {\n",
        "    'Chicago': (41.8666, -87.6240),\n",
        "    'LA': (36.1495, -115.2490),\n",
        "    'WashingtonDC': (38.8221, -77.0575),\n",
        "    'Michigan': (44.7375, -85.5944),\n",
        "    'NewYork': (40.7576, -73.7811),\n",
        "    'California': (36.8192, -119.7898),\n",
        "    'Montana': (45.7338, -108.6091),\n",
        "    'Florida': (27.9837, -81.6790)\n",
        "}"
      ],
      "metadata": {
        "id": "dBQmmUcNyztd"
      },
      "execution_count": 4,
      "outputs": []
    },
    {
      "cell_type": "code",
      "source": [
        "# 차량 정보 (차량명, 판매 가격, 이익률)\n",
        "car_info = {\n",
        "    'Elantra': {'price': 20000, 'profit_margin': 0.05, 'is_EV': False},\n",
        "    'Sonata': {'price': 25000, 'profit_margin': 0.06, 'is_EV': False},\n",
        "    'Palisade': {'price': 35000, 'profit_margin': 0.1, 'is_EV': False},\n",
        "    'Kona': {'price': 30000, 'profit_margin': 0.1, 'is_EV': True},\n",
        "    'Venue': {'price': 20000, 'profit_margin': 0.05, 'is_EV': False},\n",
        "    'Nexo': {'price': 60000, 'profit_margin': 0.1, 'is_EV': True},\n",
        "    'SantaCruz': {'price': 28000, 'profit_margin': 0.07, 'is_EV': False},\n",
        "    'IONIQ5': {'price': 45000, 'profit_margin': 0.12, 'is_EV': True},\n",
        "    'IONIQ6': {'price': 47000, 'profit_margin': 0.12, 'is_EV': True},\n",
        "    'IONIQ5Robotaxi': {'price': 55000, 'profit_margin': 0.12, 'is_EV': True},\n",
        "    'Tucson': {'price': 27000, 'profit_margin': 0.06, 'is_EV': False},\n",
        "    'Santa-Fe': {'price': 32000, 'profit_margin': 0.07, 'is_EV': False},\n",
        "    'GV70': {'price': 50000, 'profit_margin': 0.12, 'is_EV': False},\n",
        "    'GV70EV': {'price': 65000, 'profit_margin': 0.15, 'is_EV': True},\n",
        "    'GV60': {'price': 60000, 'profit_margin': 0.15, 'is_EV': True},\n",
        "    'GV80': {'price': 70000, 'profit_margin': 0.12, 'is_EV': False},\n",
        "    'G70': {'price': 45000, 'profit_margin': 0.1, 'is_EV': False},\n",
        "    'G80(RG3)': {'price': 50000, 'profit_margin': 0.1, 'is_EV': False},\n",
        "    'G80(RG3EV)': {'price': 70000, 'profit_margin': 0.15, 'is_EV': True},\n",
        "    'G90': {'price': 80000, 'profit_margin': 0.12, 'is_EV': False},\n",
        "}"
      ],
      "metadata": {
        "id": "EC5oJRpUzDHM"
      },
      "execution_count": 5,
      "outputs": []
    },
    {
      "cell_type": "code",
      "source": [
        "# 공장 생산량\n",
        "supply_data = {\n",
        "    'HMI': {\n",
        "        'Elantra': 23000, 'Sonata': 8394, 'Palisade': 17019, 'Tucson': 20593},\n",
        "    'HAOS': {\n",
        "        'Kona': 22587, 'Venue': 5973, 'Nexo': 70},\n",
        "    'BHMC': {\n",
        "        'SantaCruz': 6654, 'Sonata': 8436, 'IONIQ5': 6581, 'IONIQ6': 3070},\n",
        "    'HMMA': {\n",
        "        'Tucson': 25428, 'Santa-Fe': 17199, 'GV70': 4812, 'GV70EV': 828},\n",
        "    'HMMC': {\n",
        "        'Elantra': 27273, 'Kona': 17048, 'Tucson': 32544, 'Palisade': 17330},\n",
        "    'HMB': {\n",
        "        'GV60': 989, 'GV70': 3493, 'GV70EV': 698, 'GV80': 4248},\n",
        "    'HMMI': {\n",
        "        'Santa-Fe': 29620, 'SantaCruz': 8322, 'Sonata': 8382, 'Palisade': 10195, 'Venue': 4854},\n",
        "    'HTBC': {\n",
        "        'G70': 2769, 'G80(RG3)': 788, 'G80(RG3EV)': 124, 'G90': 206},\n",
        "    'Vietnam': {\n",
        "        'IONIQ5': 8374, 'IONIQ5Robotaxi': 18, 'IONIQ6': 2928},\n",
        "    'Korea': {\n",
        "        'GV80': 4063, 'G80(RG3)': 889, 'G70': 1889, 'G90': 406},\n",
        "}"
      ],
      "metadata": {
        "id": "HxRr0WcdzK5I"
      },
      "execution_count": 6,
      "outputs": []
    },
    {
      "cell_type": "code",
      "source": [
        "# 수요지 수요량\n",
        "demand_data = {\n",
        "    'Chicago': {\n",
        "        'Elantra': 10719, 'Sonata': 7576, 'Kona': 17659, 'G90': 262, 'Venue': 4008},\n",
        "    'LA': {\n",
        "        'Sonata': 4642, 'G70': 1050, 'Venue': 2900, 'Kona': 12209, 'Tucson': 30908, 'GV70': 2673},\n",
        "    'WashingtonDC': {\n",
        "        'Sonata': 714, 'Kona': 9767, 'SantaCruz': 4818, 'Nexo': 36, 'IONIQ5': 6134, 'Santa-Fe': 15658, 'Palisade': 15098, 'GV60': 346},\n",
        "    'Michigan': {\n",
        "        'Sonata': 1330, 'G70': 2104, 'G90': 350, 'IONIQ5Robotaxi': 18, 'Santa-Fe': 14609, 'Palisade': 10860, 'GV60': 643, 'GV70': 1704},\n",
        "    'NewYork': {\n",
        "        'Sonata': 6690, 'G70': 1504, 'Nexo': 34, 'IONIQ6': 2143, 'GV70': 2104, 'GV70EV': 1526, 'GV80': 2555},\n",
        "    'California': {\n",
        "        'Elantra': 13837, 'G80(RG3EV)': 124, 'Tucson': 22374, 'IONIQ5': 8821, 'IONIQ6': 2123, 'GV70': 1824},\n",
        "    'Montana': {\n",
        "        'Elantra': 17461, 'Sonata': 3145, 'G80(RG3)': 714, 'Tucson': 10568, 'SantaCruz': 4474, 'IONIQ6': 1732, 'Palisade': 7523, 'GV80': 1912},\n",
        "    'Florida': {\n",
        "        'Elantra': 8256, 'Sonata': 1115, 'G80(RG3)': 963, 'Venue': 3919, 'Tucson': 14715, 'SantaCruz': 5684, 'Santa-Fe': 16552, 'Palisade': 11063, 'GV80': 3844},\n",
        "}"
      ],
      "metadata": {
        "id": "jNebWVJ5zLkn"
      },
      "execution_count": 7,
      "outputs": []
    },
    {
      "cell_type": "markdown",
      "source": [
        "##Part 1. Haversine 함수 활용해 각 공장 -> 수요지 최소수송비용 구하기"
      ],
      "metadata": {
        "id": "TO1onpSRxpFB"
      }
    },
    {
      "cell_type": "code",
      "source": [
        "# (위도, 경도) tuple 객체만 담긴 list 생성\n",
        "factory_location_list = list(factory_location.values())\n",
        "port_location_list = list(port_location.values())\n",
        "demand_location_list = list(demand_location.values())"
      ],
      "metadata": {
        "id": "Ky4Et6os7_5j"
      },
      "execution_count": 8,
      "outputs": []
    },
    {
      "cell_type": "code",
      "source": [
        "# factory(행)와 port(열) 조합의 [ km당 수송비용 * haversine distance(km) ] 계산한 matrix\n",
        "factory_to_port = 0.05*haversine_vector(port_location_list, factory_location_list, Unit.KILOMETERS, comb=True)\n",
        "# demand(행)와 port(열) 조합의 [ km당 수송비용 * haversine distance(km) ] 계산한 matrix\n",
        "demand_to_port = 0.2*haversine_vector(port_location_list, demand_location_list, Unit.KILOMETERS, comb=True)"
      ],
      "metadata": {
        "id": "Rfd-9o_g7Ytw",
        "collapsed": true
      },
      "execution_count": 9,
      "outputs": []
    },
    {
      "cell_type": "code",
      "source": [
        "# 최소수송비용 결과값을 담을 수 있는 빈 float(실수, 0.0) matrix 생성\n",
        "least_cost_list = np.arange(len(factory)*len(demand))\n",
        "least_cost_array = 0.0*least_cost_list.reshape(len(factory), len(demand))\n",
        "\n",
        "# factory_to_port와 demand_to_port 수송비용 matrix 차례로 읽어나가며 수송비용 합계의 최소값 찾기\n",
        "for i in range(len(factory)):\n",
        "  for j in range(len(demand)):\n",
        "    least_cost = factory_to_port[i][0] + demand_to_port[j][0]\n",
        "\n",
        "    for k in range(len(port)):\n",
        "      cost = factory_to_port[i][k] + demand_to_port[j][k]\n",
        "      if cost < least_cost:\n",
        "        least_cost = cost\n",
        "\n",
        "    # 특정 factory, demand 조합의 최소수송비용 matrix에 결과값 저장\n",
        "    least_cost_array[i][j] = least_cost"
      ],
      "metadata": {
        "collapsed": true,
        "id": "KjxuAxGa88xx"
      },
      "execution_count": 10,
      "outputs": []
    },
    {
      "cell_type": "code",
      "source": [
        "# 해당 matrix를 dictionary/df 형태로 변환\n",
        "least_cost_matrix = {}\n",
        "for i, fact in enumerate(factory):\n",
        "  least_cost_matrix[fact] = {}\n",
        "  for j, dem in enumerate(demand):\n",
        "    least_cost_matrix[fact][dem] = least_cost_array[i][j]\n",
        "least_cost_matrix_df = pd.DataFrame(least_cost_matrix)\n",
        "least_cost_matrix_df_transposed = pd.DataFrame(least_cost_matrix_df.transpose())"
      ],
      "metadata": {
        "id": "XqMFRebcx3Eq",
        "collapsed": true
      },
      "execution_count": 11,
      "outputs": []
    },
    {
      "cell_type": "markdown",
      "source": [
        "##Part 2. Linprog 함수 활용해 차종별 최소수송비용 구하기"
      ],
      "metadata": {
        "id": "tVKssFpIyWOe"
      }
    },
    {
      "cell_type": "code",
      "source": [
        "# 차종 주어졌을 때 해당 차종의 생산지와 수요지 파악\n",
        "\n",
        "def find_supplier(car_type):\n",
        "  suppliers = {}\n",
        "  for supplier, type_list in supply_data.items():\n",
        "    if car_type in type_list:\n",
        "      suppliers[supplier] = type_list[car_type]\n",
        "  return suppliers\n",
        "\n",
        "def find_demander(car_type):\n",
        "  demanders = {}\n",
        "  for demander, type_list in demand_data.items():\n",
        "    if car_type in type_list:\n",
        "      demanders[demander] = type_list[car_type]\n",
        "  return demanders\n",
        "\n",
        "# 생산지 수요지 정보가 주어졌을 때 알맞은 A_eq 행렬 만들기\n",
        "\n",
        "def s_constraint(len_s, len_d):\n",
        "  output = np.zeros((len_s, len_s*len_d))\n",
        "  for i in range(len_s):\n",
        "    output[i] = np.arange(len_s*len_d) // len_d == i\n",
        "  return output\n",
        "\n",
        "def d_constraint(len_s, len_d):\n",
        "  output = np.zeros((len_d, len_s*len_d))\n",
        "  for i in range(len_d):\n",
        "    output[i] = np.arange(len_s*len_d) % len_d == i\n",
        "  return output"
      ],
      "metadata": {
        "id": "uhpi7QK1zyTU"
      },
      "execution_count": 12,
      "outputs": []
    },
    {
      "cell_type": "code",
      "source": [
        "# 차종이 주어졌을 때 적합한 linprog 문제 생성 및 결과 도출\n",
        "\n",
        "def return_z(car_type):\n",
        "  sup = find_supplier(car_type)\n",
        "  dem = find_demander(car_type)\n",
        "\n",
        "  sup_keys = list(sup.keys())\n",
        "  dem_keys = list(dem.keys())\n",
        "\n",
        "  len_s = len(sup_keys)\n",
        "  len_d = len(dem_keys)\n",
        "\n",
        "  cost_array = np.zeros((len_s,len_d))\n",
        "  for i, supplier in enumerate(sup_keys):\n",
        "    for j, demander in enumerate(dem_keys):\n",
        "      cost_array[i][j] = least_cost_matrix[supplier][demander]\n",
        "  cost_array = cost_array.reshape((len_s*len_d,))\n",
        "\n",
        "  A_eq = np.concatenate((s_constraint(len_s, len_d), d_constraint(len_s, len_d)))\n",
        "  b_eq = np.array(list(sup.values()) + list(dem.values())).T\n",
        "\n",
        "  return linprog(c = cost_array, A_eq = A_eq, b_eq = b_eq).fun"
      ],
      "metadata": {
        "id": "ET1RMlCZDHyU"
      },
      "execution_count": 13,
      "outputs": []
    },
    {
      "cell_type": "code",
      "source": [
        "best_z_array = np.array(list(map(return_z, car)))"
      ],
      "metadata": {
        "id": "bGYt0s5eMsM3"
      },
      "execution_count": 14,
      "outputs": []
    },
    {
      "cell_type": "code",
      "source": [
        "best_z_array"
      ],
      "metadata": {
        "colab": {
          "base_uri": "https://localhost:8080/"
        },
        "id": "J9ub1oOUUk0N",
        "outputId": "1e7091e4-ec22-4722-9278-1746e171845b"
      },
      "execution_count": 15,
      "outputs": [
        {
          "output_type": "execute_result",
          "data": {
            "text/plain": [
              "array([3.43617969e+07, 1.95220496e+07, 3.12578214e+07, 2.24801845e+07,\n",
              "       7.86532937e+06, 3.10892096e+04, 1.19070281e+07, 9.78090352e+06,\n",
              "       3.85015175e+06, 1.55780646e+04, 3.99821928e+07, 3.04919447e+07,\n",
              "       2.71550815e+06, 3.29802346e+05, 5.31248679e+05, 4.35527501e+06,\n",
              "       3.16837629e+06, 1.16969948e+06, 8.06988294e+04, 4.83304135e+05])"
            ]
          },
          "metadata": {},
          "execution_count": 15
        }
      ]
    },
    {
      "cell_type": "markdown",
      "source": [
        "## Part 3. 순수익을 구하고 엑셀로 내보내기"
      ],
      "metadata": {
        "id": "Vd3HMc8_Ppro"
      }
    },
    {
      "cell_type": "code",
      "source": [
        "# 전기차 내연차 나누어 총 순수익 구하기\n",
        "\n",
        "total_profits = []\n",
        "ev_profits = []\n",
        "is_EV = []\n",
        "for i in car:\n",
        "  total_profits.append(sum(find_supplier(i).values()) * car_info[i][\"price\"] * car_info[i][\"profit_margin\"])\n",
        "  is_EV.append(car_info[i]['is_EV'])\n",
        "total_profits = np.array(total_profits)\n",
        "is_EV = np.array(list(map(lambda x: \"전기차(EV)\" if x else \"전기차 아님\", is_EV)))"
      ],
      "metadata": {
        "id": "Fyedr2ULQFl1"
      },
      "execution_count": 16,
      "outputs": []
    },
    {
      "cell_type": "code",
      "source": [
        "result_df = pd.DataFrame()\n",
        "result_df.index = car\n",
        "result_df.index.name = '차량이름'\n",
        "result_df[\"Minimized Cost: Z\"] = best_z_array\n",
        "result_df[\"Net Profit After Transportation Cost: Net Profit - Z\"] = total_profits - best_z_array\n",
        "result_df[\"전기차 유무\"] = is_EV"
      ],
      "metadata": {
        "collapsed": true,
        "id": "AS3jMUY6Pv0p"
      },
      "execution_count": 17,
      "outputs": []
    },
    {
      "cell_type": "code",
      "source": [
        "tot = sum(result_df[\"Net Profit After Transportation Cost: Net Profit - Z\"])\n",
        "tot_ev = sum(result_df.loc[result_df[\"전기차 유무\"] == \"전기차(EV)\"][\"Net Profit After Transportation Cost: Net Profit - Z\"])\n",
        "tot_non_ev = tot - tot_ev\n",
        "total_df = pd.DataFrame({\"내연기관차 순이익\": [None, tot_non_ev, None], \"전기차 순이익\": [None, tot_ev, None], \"전체 순이익\": [None, tot, None]}).T\n",
        "total_df.columns = [\"Minimized Cost: Z\", \"Net Profit After Transportation Cost: Net Profit - Z\", \"전기차 유무\"]"
      ],
      "metadata": {
        "id": "05olMBwPQOJY"
      },
      "execution_count": 18,
      "outputs": []
    },
    {
      "cell_type": "code",
      "source": [
        "result_df = pd.concat([result_df, total_df], axis = 0)\n",
        "result_df.to_csv(\"기본문제_수송비용표.csv\")\n",
        "files.download(\"기본문제_수송비용표.csv\")"
      ],
      "metadata": {
        "id": "Bsk6Yft-Q6QO",
        "colab": {
          "base_uri": "https://localhost:8080/",
          "height": 17
        },
        "outputId": "5a3dd641-6c9a-44d6-e805-2b2f5808bea5"
      },
      "execution_count": null,
      "outputs": [
        {
          "output_type": "display_data",
          "data": {
            "text/plain": [
              "<IPython.core.display.Javascript object>"
            ],
            "application/javascript": [
              "\n",
              "    async function download(id, filename, size) {\n",
              "      if (!google.colab.kernel.accessAllowed) {\n",
              "        return;\n",
              "      }\n",
              "      const div = document.createElement('div');\n",
              "      const label = document.createElement('label');\n",
              "      label.textContent = `Downloading \"${filename}\": `;\n",
              "      div.appendChild(label);\n",
              "      const progress = document.createElement('progress');\n",
              "      progress.max = size;\n",
              "      div.appendChild(progress);\n",
              "      document.body.appendChild(div);\n",
              "\n",
              "      const buffers = [];\n",
              "      let downloaded = 0;\n",
              "\n",
              "      const channel = await google.colab.kernel.comms.open(id);\n",
              "      // Send a message to notify the kernel that we're ready.\n",
              "      channel.send({})\n",
              "\n",
              "      for await (const message of channel.messages) {\n",
              "        // Send a message to notify the kernel that we're ready.\n",
              "        channel.send({})\n",
              "        if (message.buffers) {\n",
              "          for (const buffer of message.buffers) {\n",
              "            buffers.push(buffer);\n",
              "            downloaded += buffer.byteLength;\n",
              "            progress.value = downloaded;\n",
              "          }\n",
              "        }\n",
              "      }\n",
              "      const blob = new Blob(buffers, {type: 'application/binary'});\n",
              "      const a = document.createElement('a');\n",
              "      a.href = window.URL.createObjectURL(blob);\n",
              "      a.download = filename;\n",
              "      div.appendChild(a);\n",
              "      a.click();\n",
              "      div.remove();\n",
              "    }\n",
              "  "
            ]
          },
          "metadata": {}
        },
        {
          "output_type": "display_data",
          "data": {
            "text/plain": [
              "<IPython.core.display.Javascript object>"
            ],
            "application/javascript": [
              "download(\"download_a93ecad2-2270-4494-921d-0671201b939f\", \"\\uae30\\ubcf8\\ubb38\\uc81c_\\uc218\\uc1a1\\ube44\\uc6a9\\ud45c.csv\", 1404)"
            ]
          },
          "metadata": {}
        }
      ]
    },
    {
      "cell_type": "code",
      "source": [
        "result_df"
      ],
      "metadata": {
        "id": "Vow0UknlUvpv",
        "outputId": "313c7cf7-94f4-4068-d8e6-9d01b1776e2c",
        "colab": {
          "base_uri": "https://localhost:8080/",
          "height": 770
        },
        "collapsed": true
      },
      "execution_count": null,
      "outputs": [
        {
          "output_type": "execute_result",
          "data": {
            "text/plain": [
              "                Minimized Cost: Z  \\\n",
              "Elantra              3.436180e+07   \n",
              "Sonata               1.952205e+07   \n",
              "Palisade             3.125782e+07   \n",
              "Kona                 2.248018e+07   \n",
              "Venue                7.865329e+06   \n",
              "Nexo                 3.108921e+04   \n",
              "SantaCruz            1.190703e+07   \n",
              "IONIQ5               9.780904e+06   \n",
              "IONIQ6               3.850152e+06   \n",
              "IONIQ5Robotaxi       1.557806e+04   \n",
              "Tucson               3.998219e+07   \n",
              "Santa-Fe             3.049194e+07   \n",
              "GV70                 2.715508e+06   \n",
              "GV70EV               3.298023e+05   \n",
              "GV60                 5.312487e+05   \n",
              "GV80                 4.355275e+06   \n",
              "G70                  3.168376e+06   \n",
              "G80(RG3)             1.169699e+06   \n",
              "G80(RG3EV)           8.069883e+04   \n",
              "G90                  4.833041e+05   \n",
              "내연기관차 순이익                     NaN   \n",
              "전기차 순이익                       NaN   \n",
              "전체 순이익                        NaN   \n",
              "\n",
              "                Net Profit After Transportation Cost: Net Profit - Z   전기차 유무  \n",
              "Elantra                                              1.591120e+07      전기차 아님  \n",
              "Sonata                                               1.829595e+07      전기차 아님  \n",
              "Palisade                                             1.246462e+08      전기차 아님  \n",
              "Kona                                                 9.642482e+07     전기차(EV)  \n",
              "Venue                                                2.961671e+06      전기차 아님  \n",
              "Nexo                                                 3.889108e+05     전기차(EV)  \n",
              "SantaCruz                                            1.744593e+07      전기차 아님  \n",
              "IONIQ5                                               7.097610e+07     전기차(EV)  \n",
              "IONIQ6                                               2.997857e+07     전기차(EV)  \n",
              "IONIQ5Robotaxi                                       1.032219e+05     전기차(EV)  \n",
              "Tucson                                               8.729311e+07      전기차 아님  \n",
              "Santa-Fe                                             7.438262e+07      전기차 아님  \n",
              "GV70                                                 4.711449e+07      전기차 아님  \n",
              "GV70EV                                               1.454870e+07     전기차(EV)  \n",
              "GV60                                                 8.369751e+06     전기차(EV)  \n",
              "GV80                                                 6.545712e+07      전기차 아님  \n",
              "G70                                                  1.779262e+07      전기차 아님  \n",
              "G80(RG3)                                             7.215301e+06      전기차 아님  \n",
              "G80(RG3EV)                                           1.221301e+06     전기차(EV)  \n",
              "G90                                                  5.391896e+06      전기차 아님  \n",
              "내연기관차 순이익                                            4.839081e+08         NaN  \n",
              "전기차 순이익                                              2.220114e+08         NaN  \n",
              "전체 순이익                                               7.059195e+08         NaN  "
            ],
            "text/html": [
              "\n",
              "  <div id=\"df-c935f298-3288-4af2-aca0-904a5b0aac18\" class=\"colab-df-container\">\n",
              "    <div>\n",
              "<style scoped>\n",
              "    .dataframe tbody tr th:only-of-type {\n",
              "        vertical-align: middle;\n",
              "    }\n",
              "\n",
              "    .dataframe tbody tr th {\n",
              "        vertical-align: top;\n",
              "    }\n",
              "\n",
              "    .dataframe thead th {\n",
              "        text-align: right;\n",
              "    }\n",
              "</style>\n",
              "<table border=\"1\" class=\"dataframe\">\n",
              "  <thead>\n",
              "    <tr style=\"text-align: right;\">\n",
              "      <th></th>\n",
              "      <th>Minimized Cost: Z</th>\n",
              "      <th>Net Profit After Transportation Cost: Net Profit - Z</th>\n",
              "      <th>전기차 유무</th>\n",
              "    </tr>\n",
              "  </thead>\n",
              "  <tbody>\n",
              "    <tr>\n",
              "      <th>Elantra</th>\n",
              "      <td>3.436180e+07</td>\n",
              "      <td>1.591120e+07</td>\n",
              "      <td>전기차 아님</td>\n",
              "    </tr>\n",
              "    <tr>\n",
              "      <th>Sonata</th>\n",
              "      <td>1.952205e+07</td>\n",
              "      <td>1.829595e+07</td>\n",
              "      <td>전기차 아님</td>\n",
              "    </tr>\n",
              "    <tr>\n",
              "      <th>Palisade</th>\n",
              "      <td>3.125782e+07</td>\n",
              "      <td>1.246462e+08</td>\n",
              "      <td>전기차 아님</td>\n",
              "    </tr>\n",
              "    <tr>\n",
              "      <th>Kona</th>\n",
              "      <td>2.248018e+07</td>\n",
              "      <td>9.642482e+07</td>\n",
              "      <td>전기차(EV)</td>\n",
              "    </tr>\n",
              "    <tr>\n",
              "      <th>Venue</th>\n",
              "      <td>7.865329e+06</td>\n",
              "      <td>2.961671e+06</td>\n",
              "      <td>전기차 아님</td>\n",
              "    </tr>\n",
              "    <tr>\n",
              "      <th>Nexo</th>\n",
              "      <td>3.108921e+04</td>\n",
              "      <td>3.889108e+05</td>\n",
              "      <td>전기차(EV)</td>\n",
              "    </tr>\n",
              "    <tr>\n",
              "      <th>SantaCruz</th>\n",
              "      <td>1.190703e+07</td>\n",
              "      <td>1.744593e+07</td>\n",
              "      <td>전기차 아님</td>\n",
              "    </tr>\n",
              "    <tr>\n",
              "      <th>IONIQ5</th>\n",
              "      <td>9.780904e+06</td>\n",
              "      <td>7.097610e+07</td>\n",
              "      <td>전기차(EV)</td>\n",
              "    </tr>\n",
              "    <tr>\n",
              "      <th>IONIQ6</th>\n",
              "      <td>3.850152e+06</td>\n",
              "      <td>2.997857e+07</td>\n",
              "      <td>전기차(EV)</td>\n",
              "    </tr>\n",
              "    <tr>\n",
              "      <th>IONIQ5Robotaxi</th>\n",
              "      <td>1.557806e+04</td>\n",
              "      <td>1.032219e+05</td>\n",
              "      <td>전기차(EV)</td>\n",
              "    </tr>\n",
              "    <tr>\n",
              "      <th>Tucson</th>\n",
              "      <td>3.998219e+07</td>\n",
              "      <td>8.729311e+07</td>\n",
              "      <td>전기차 아님</td>\n",
              "    </tr>\n",
              "    <tr>\n",
              "      <th>Santa-Fe</th>\n",
              "      <td>3.049194e+07</td>\n",
              "      <td>7.438262e+07</td>\n",
              "      <td>전기차 아님</td>\n",
              "    </tr>\n",
              "    <tr>\n",
              "      <th>GV70</th>\n",
              "      <td>2.715508e+06</td>\n",
              "      <td>4.711449e+07</td>\n",
              "      <td>전기차 아님</td>\n",
              "    </tr>\n",
              "    <tr>\n",
              "      <th>GV70EV</th>\n",
              "      <td>3.298023e+05</td>\n",
              "      <td>1.454870e+07</td>\n",
              "      <td>전기차(EV)</td>\n",
              "    </tr>\n",
              "    <tr>\n",
              "      <th>GV60</th>\n",
              "      <td>5.312487e+05</td>\n",
              "      <td>8.369751e+06</td>\n",
              "      <td>전기차(EV)</td>\n",
              "    </tr>\n",
              "    <tr>\n",
              "      <th>GV80</th>\n",
              "      <td>4.355275e+06</td>\n",
              "      <td>6.545712e+07</td>\n",
              "      <td>전기차 아님</td>\n",
              "    </tr>\n",
              "    <tr>\n",
              "      <th>G70</th>\n",
              "      <td>3.168376e+06</td>\n",
              "      <td>1.779262e+07</td>\n",
              "      <td>전기차 아님</td>\n",
              "    </tr>\n",
              "    <tr>\n",
              "      <th>G80(RG3)</th>\n",
              "      <td>1.169699e+06</td>\n",
              "      <td>7.215301e+06</td>\n",
              "      <td>전기차 아님</td>\n",
              "    </tr>\n",
              "    <tr>\n",
              "      <th>G80(RG3EV)</th>\n",
              "      <td>8.069883e+04</td>\n",
              "      <td>1.221301e+06</td>\n",
              "      <td>전기차(EV)</td>\n",
              "    </tr>\n",
              "    <tr>\n",
              "      <th>G90</th>\n",
              "      <td>4.833041e+05</td>\n",
              "      <td>5.391896e+06</td>\n",
              "      <td>전기차 아님</td>\n",
              "    </tr>\n",
              "    <tr>\n",
              "      <th>내연기관차 순이익</th>\n",
              "      <td>NaN</td>\n",
              "      <td>4.839081e+08</td>\n",
              "      <td>NaN</td>\n",
              "    </tr>\n",
              "    <tr>\n",
              "      <th>전기차 순이익</th>\n",
              "      <td>NaN</td>\n",
              "      <td>2.220114e+08</td>\n",
              "      <td>NaN</td>\n",
              "    </tr>\n",
              "    <tr>\n",
              "      <th>전체 순이익</th>\n",
              "      <td>NaN</td>\n",
              "      <td>7.059195e+08</td>\n",
              "      <td>NaN</td>\n",
              "    </tr>\n",
              "  </tbody>\n",
              "</table>\n",
              "</div>\n",
              "    <div class=\"colab-df-buttons\">\n",
              "\n",
              "  <div class=\"colab-df-container\">\n",
              "    <button class=\"colab-df-convert\" onclick=\"convertToInteractive('df-c935f298-3288-4af2-aca0-904a5b0aac18')\"\n",
              "            title=\"Convert this dataframe to an interactive table.\"\n",
              "            style=\"display:none;\">\n",
              "\n",
              "  <svg xmlns=\"http://www.w3.org/2000/svg\" height=\"24px\" viewBox=\"0 -960 960 960\">\n",
              "    <path d=\"M120-120v-720h720v720H120Zm60-500h600v-160H180v160Zm220 220h160v-160H400v160Zm0 220h160v-160H400v160ZM180-400h160v-160H180v160Zm440 0h160v-160H620v160ZM180-180h160v-160H180v160Zm440 0h160v-160H620v160Z\"/>\n",
              "  </svg>\n",
              "    </button>\n",
              "\n",
              "  <style>\n",
              "    .colab-df-container {\n",
              "      display:flex;\n",
              "      gap: 12px;\n",
              "    }\n",
              "\n",
              "    .colab-df-convert {\n",
              "      background-color: #E8F0FE;\n",
              "      border: none;\n",
              "      border-radius: 50%;\n",
              "      cursor: pointer;\n",
              "      display: none;\n",
              "      fill: #1967D2;\n",
              "      height: 32px;\n",
              "      padding: 0 0 0 0;\n",
              "      width: 32px;\n",
              "    }\n",
              "\n",
              "    .colab-df-convert:hover {\n",
              "      background-color: #E2EBFA;\n",
              "      box-shadow: 0px 1px 2px rgba(60, 64, 67, 0.3), 0px 1px 3px 1px rgba(60, 64, 67, 0.15);\n",
              "      fill: #174EA6;\n",
              "    }\n",
              "\n",
              "    .colab-df-buttons div {\n",
              "      margin-bottom: 4px;\n",
              "    }\n",
              "\n",
              "    [theme=dark] .colab-df-convert {\n",
              "      background-color: #3B4455;\n",
              "      fill: #D2E3FC;\n",
              "    }\n",
              "\n",
              "    [theme=dark] .colab-df-convert:hover {\n",
              "      background-color: #434B5C;\n",
              "      box-shadow: 0px 1px 3px 1px rgba(0, 0, 0, 0.15);\n",
              "      filter: drop-shadow(0px 1px 2px rgba(0, 0, 0, 0.3));\n",
              "      fill: #FFFFFF;\n",
              "    }\n",
              "  </style>\n",
              "\n",
              "    <script>\n",
              "      const buttonEl =\n",
              "        document.querySelector('#df-c935f298-3288-4af2-aca0-904a5b0aac18 button.colab-df-convert');\n",
              "      buttonEl.style.display =\n",
              "        google.colab.kernel.accessAllowed ? 'block' : 'none';\n",
              "\n",
              "      async function convertToInteractive(key) {\n",
              "        const element = document.querySelector('#df-c935f298-3288-4af2-aca0-904a5b0aac18');\n",
              "        const dataTable =\n",
              "          await google.colab.kernel.invokeFunction('convertToInteractive',\n",
              "                                                    [key], {});\n",
              "        if (!dataTable) return;\n",
              "\n",
              "        const docLinkHtml = 'Like what you see? Visit the ' +\n",
              "          '<a target=\"_blank\" href=https://colab.research.google.com/notebooks/data_table.ipynb>data table notebook</a>'\n",
              "          + ' to learn more about interactive tables.';\n",
              "        element.innerHTML = '';\n",
              "        dataTable['output_type'] = 'display_data';\n",
              "        await google.colab.output.renderOutput(dataTable, element);\n",
              "        const docLink = document.createElement('div');\n",
              "        docLink.innerHTML = docLinkHtml;\n",
              "        element.appendChild(docLink);\n",
              "      }\n",
              "    </script>\n",
              "  </div>\n",
              "\n",
              "\n",
              "<div id=\"df-dc768c58-4166-4d5c-94e2-5b4389d408c7\">\n",
              "  <button class=\"colab-df-quickchart\" onclick=\"quickchart('df-dc768c58-4166-4d5c-94e2-5b4389d408c7')\"\n",
              "            title=\"Suggest charts\"\n",
              "            style=\"display:none;\">\n",
              "\n",
              "<svg xmlns=\"http://www.w3.org/2000/svg\" height=\"24px\"viewBox=\"0 0 24 24\"\n",
              "     width=\"24px\">\n",
              "    <g>\n",
              "        <path d=\"M19 3H5c-1.1 0-2 .9-2 2v14c0 1.1.9 2 2 2h14c1.1 0 2-.9 2-2V5c0-1.1-.9-2-2-2zM9 17H7v-7h2v7zm4 0h-2V7h2v10zm4 0h-2v-4h2v4z\"/>\n",
              "    </g>\n",
              "</svg>\n",
              "  </button>\n",
              "\n",
              "<style>\n",
              "  .colab-df-quickchart {\n",
              "      --bg-color: #E8F0FE;\n",
              "      --fill-color: #1967D2;\n",
              "      --hover-bg-color: #E2EBFA;\n",
              "      --hover-fill-color: #174EA6;\n",
              "      --disabled-fill-color: #AAA;\n",
              "      --disabled-bg-color: #DDD;\n",
              "  }\n",
              "\n",
              "  [theme=dark] .colab-df-quickchart {\n",
              "      --bg-color: #3B4455;\n",
              "      --fill-color: #D2E3FC;\n",
              "      --hover-bg-color: #434B5C;\n",
              "      --hover-fill-color: #FFFFFF;\n",
              "      --disabled-bg-color: #3B4455;\n",
              "      --disabled-fill-color: #666;\n",
              "  }\n",
              "\n",
              "  .colab-df-quickchart {\n",
              "    background-color: var(--bg-color);\n",
              "    border: none;\n",
              "    border-radius: 50%;\n",
              "    cursor: pointer;\n",
              "    display: none;\n",
              "    fill: var(--fill-color);\n",
              "    height: 32px;\n",
              "    padding: 0;\n",
              "    width: 32px;\n",
              "  }\n",
              "\n",
              "  .colab-df-quickchart:hover {\n",
              "    background-color: var(--hover-bg-color);\n",
              "    box-shadow: 0 1px 2px rgba(60, 64, 67, 0.3), 0 1px 3px 1px rgba(60, 64, 67, 0.15);\n",
              "    fill: var(--button-hover-fill-color);\n",
              "  }\n",
              "\n",
              "  .colab-df-quickchart-complete:disabled,\n",
              "  .colab-df-quickchart-complete:disabled:hover {\n",
              "    background-color: var(--disabled-bg-color);\n",
              "    fill: var(--disabled-fill-color);\n",
              "    box-shadow: none;\n",
              "  }\n",
              "\n",
              "  .colab-df-spinner {\n",
              "    border: 2px solid var(--fill-color);\n",
              "    border-color: transparent;\n",
              "    border-bottom-color: var(--fill-color);\n",
              "    animation:\n",
              "      spin 1s steps(1) infinite;\n",
              "  }\n",
              "\n",
              "  @keyframes spin {\n",
              "    0% {\n",
              "      border-color: transparent;\n",
              "      border-bottom-color: var(--fill-color);\n",
              "      border-left-color: var(--fill-color);\n",
              "    }\n",
              "    20% {\n",
              "      border-color: transparent;\n",
              "      border-left-color: var(--fill-color);\n",
              "      border-top-color: var(--fill-color);\n",
              "    }\n",
              "    30% {\n",
              "      border-color: transparent;\n",
              "      border-left-color: var(--fill-color);\n",
              "      border-top-color: var(--fill-color);\n",
              "      border-right-color: var(--fill-color);\n",
              "    }\n",
              "    40% {\n",
              "      border-color: transparent;\n",
              "      border-right-color: var(--fill-color);\n",
              "      border-top-color: var(--fill-color);\n",
              "    }\n",
              "    60% {\n",
              "      border-color: transparent;\n",
              "      border-right-color: var(--fill-color);\n",
              "    }\n",
              "    80% {\n",
              "      border-color: transparent;\n",
              "      border-right-color: var(--fill-color);\n",
              "      border-bottom-color: var(--fill-color);\n",
              "    }\n",
              "    90% {\n",
              "      border-color: transparent;\n",
              "      border-bottom-color: var(--fill-color);\n",
              "    }\n",
              "  }\n",
              "</style>\n",
              "\n",
              "  <script>\n",
              "    async function quickchart(key) {\n",
              "      const quickchartButtonEl =\n",
              "        document.querySelector('#' + key + ' button');\n",
              "      quickchartButtonEl.disabled = true;  // To prevent multiple clicks.\n",
              "      quickchartButtonEl.classList.add('colab-df-spinner');\n",
              "      try {\n",
              "        const charts = await google.colab.kernel.invokeFunction(\n",
              "            'suggestCharts', [key], {});\n",
              "      } catch (error) {\n",
              "        console.error('Error during call to suggestCharts:', error);\n",
              "      }\n",
              "      quickchartButtonEl.classList.remove('colab-df-spinner');\n",
              "      quickchartButtonEl.classList.add('colab-df-quickchart-complete');\n",
              "    }\n",
              "    (() => {\n",
              "      let quickchartButtonEl =\n",
              "        document.querySelector('#df-dc768c58-4166-4d5c-94e2-5b4389d408c7 button');\n",
              "      quickchartButtonEl.style.display =\n",
              "        google.colab.kernel.accessAllowed ? 'block' : 'none';\n",
              "    })();\n",
              "  </script>\n",
              "</div>\n",
              "\n",
              "  <div id=\"id_2298dd95-96df-4e90-9b71-ad98ee4fe3f4\">\n",
              "    <style>\n",
              "      .colab-df-generate {\n",
              "        background-color: #E8F0FE;\n",
              "        border: none;\n",
              "        border-radius: 50%;\n",
              "        cursor: pointer;\n",
              "        display: none;\n",
              "        fill: #1967D2;\n",
              "        height: 32px;\n",
              "        padding: 0 0 0 0;\n",
              "        width: 32px;\n",
              "      }\n",
              "\n",
              "      .colab-df-generate:hover {\n",
              "        background-color: #E2EBFA;\n",
              "        box-shadow: 0px 1px 2px rgba(60, 64, 67, 0.3), 0px 1px 3px 1px rgba(60, 64, 67, 0.15);\n",
              "        fill: #174EA6;\n",
              "      }\n",
              "\n",
              "      [theme=dark] .colab-df-generate {\n",
              "        background-color: #3B4455;\n",
              "        fill: #D2E3FC;\n",
              "      }\n",
              "\n",
              "      [theme=dark] .colab-df-generate:hover {\n",
              "        background-color: #434B5C;\n",
              "        box-shadow: 0px 1px 3px 1px rgba(0, 0, 0, 0.15);\n",
              "        filter: drop-shadow(0px 1px 2px rgba(0, 0, 0, 0.3));\n",
              "        fill: #FFFFFF;\n",
              "      }\n",
              "    </style>\n",
              "    <button class=\"colab-df-generate\" onclick=\"generateWithVariable('result_df')\"\n",
              "            title=\"Generate code using this dataframe.\"\n",
              "            style=\"display:none;\">\n",
              "\n",
              "  <svg xmlns=\"http://www.w3.org/2000/svg\" height=\"24px\"viewBox=\"0 0 24 24\"\n",
              "       width=\"24px\">\n",
              "    <path d=\"M7,19H8.4L18.45,9,17,7.55,7,17.6ZM5,21V16.75L18.45,3.32a2,2,0,0,1,2.83,0l1.4,1.43a1.91,1.91,0,0,1,.58,1.4,1.91,1.91,0,0,1-.58,1.4L9.25,21ZM18.45,9,17,7.55Zm-12,3A5.31,5.31,0,0,0,4.9,8.1,5.31,5.31,0,0,0,1,6.5,5.31,5.31,0,0,0,4.9,4.9,5.31,5.31,0,0,0,6.5,1,5.31,5.31,0,0,0,8.1,4.9,5.31,5.31,0,0,0,12,6.5,5.46,5.46,0,0,0,6.5,12Z\"/>\n",
              "  </svg>\n",
              "    </button>\n",
              "    <script>\n",
              "      (() => {\n",
              "      const buttonEl =\n",
              "        document.querySelector('#id_2298dd95-96df-4e90-9b71-ad98ee4fe3f4 button.colab-df-generate');\n",
              "      buttonEl.style.display =\n",
              "        google.colab.kernel.accessAllowed ? 'block' : 'none';\n",
              "\n",
              "      buttonEl.onclick = () => {\n",
              "        google.colab.notebook.generateWithVariable('result_df');\n",
              "      }\n",
              "      })();\n",
              "    </script>\n",
              "  </div>\n",
              "\n",
              "    </div>\n",
              "  </div>\n"
            ],
            "application/vnd.google.colaboratory.intrinsic+json": {
              "type": "dataframe",
              "variable_name": "result_df",
              "summary": "{\n  \"name\": \"result_df\",\n  \"rows\": 23,\n  \"fields\": [\n    {\n      \"column\": \"Minimized Cost: Z\",\n      \"properties\": {\n        \"dtype\": \"number\",\n        \"std\": 13392419.646570725,\n        \"min\": 15578.064592153765,\n        \"max\": 39982192.81658094,\n        \"num_unique_values\": 20,\n        \"samples\": [\n          34361796.9453629,\n          1169699.47801085,\n          4355275.01040759\n        ],\n        \"semantic_type\": \"\",\n        \"description\": \"\"\n      }\n    },\n    {\n      \"column\": \"Net Profit After Transportation Cost: Net Profit - Z\",\n      \"properties\": {\n        \"dtype\": \"number\",\n        \"std\": 170399640.13849646,\n        \"min\": 103221.93540784623,\n        \"max\": 705919457.1430062,\n        \"num_unique_values\": 23,\n        \"samples\": [\n          65457124.98959241,\n          103221.93540784623,\n          15911203.054637097\n        ],\n        \"semantic_type\": \"\",\n        \"description\": \"\"\n      }\n    },\n    {\n      \"column\": \"\\uc804\\uae30\\ucc28 \\uc720\\ubb34\",\n      \"properties\": {\n        \"dtype\": \"category\",\n        \"num_unique_values\": 2,\n        \"samples\": [\n          \"\\uc804\\uae30\\ucc28(EV)\",\n          \"\\uc804\\uae30\\ucc28 \\uc544\\ub2d8\"\n        ],\n        \"semantic_type\": \"\",\n        \"description\": \"\"\n      }\n    }\n  ]\n}"
            }
          },
          "metadata": {},
          "execution_count": 22
        }
      ]
    }
  ]
}